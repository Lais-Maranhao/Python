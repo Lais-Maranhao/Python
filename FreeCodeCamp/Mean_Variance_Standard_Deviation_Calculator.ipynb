{
  "nbformat": 4,
  "nbformat_minor": 0,
  "metadata": {
    "colab": {
      "provenance": []
    },
    "kernelspec": {
      "name": "python3",
      "display_name": "Python 3"
    },
    "language_info": {
      "name": "python"
    }
  },
  "cells": [
    {
      "cell_type": "markdown",
      "source": [
        "# Mean - Variance - Standard Deviation Calculator\n",
        "\n",
        "Create a function named calculate that uses Numpy to output the mean, variance, standard deviation, max, min, and sum of the rows, columns, and elements in a 3\n",
        "x 3 matrix.\n",
        "\n",
        "The input of the function should be a list containing 9 digits. The function should convert the list into a 3 x 3 Numpy array, and then return a dictionary containing the mean, variance, standard deviation, max, min, and sum along both axes and for the flattened matrix.\n",
        "\n",
        "If a list containing less than 9 elements is passed into the function, it should raisea ValueError exception with the message: \"List must contain nine numbers.\"\n",
        "\n",
        "The values in the returned dictionary should be lists and not Numpy arrays.\n",
        "\n",
        "\n",
        "Link to the project\n",
        "[Mean - Variance - Standard Deviation Calculator](https://www.freecodecamp.org/learn/data-analysis-with-python/data-analysis-with-python-projects/mean-variance-standard-deviation-calculator)\n",
        "\n"
      ],
      "metadata": {
        "id": "ei2VMwbTrr_t"
      }
    },
    {
      "cell_type": "code",
      "execution_count": null,
      "metadata": {
        "id": "4JXuxzZTropx"
      },
      "outputs": [],
      "source": [
        "import numpy as np\n",
        "\n",
        "def calculate(list):\n",
        "    if len(list) != 9:\n",
        "        raise ValueError(\"List must contain nine numbers.\")\n",
        "    else:\n",
        "        matrix = np.array(list).reshape(3, 3)\n",
        "\n",
        "    calculations = {'mean': [np.mean(matrix, axis=0).tolist(), np.mean(matrix, axis=1).tolist(), np.mean(matrix).tolist()],\n",
        "        'variance': [np.var(matrix, axis=0).tolist(), np.var(matrix, axis=1).tolist(), np.var(matrix).tolist()],\n",
        "        'standard deviation': [np.std(matrix, axis=0).tolist(), np.std(matrix, axis=1).tolist(), np.std(matrix).tolist()],\n",
        "        'max': [np.max(matrix, axis=0).tolist(), np.max(matrix, axis=1).tolist(), np.max(matrix).tolist()],\n",
        "        'min': [np.min(matrix, axis=0).tolist(), np.min(matrix, axis=1).tolist(), np.min(matrix).tolist()],\n",
        "        'sum': [np.sum(matrix, axis=0).tolist(), np.sum(matrix, axis=1).tolist(), np.sum(matrix).tolist()]\n",
        "    }\n",
        "\n"
      ]
    }
  ]
}
